{
 "cells": [
  {
   "cell_type": "code",
   "execution_count": 1,
   "id": "0c5791d4",
   "metadata": {},
   "outputs": [],
   "source": [
    "a = 5\n",
    "b = 7\n",
    "c = a + b\n",
    "print(\"addition\", c)"
   ]
  },
  {
   "cell_type": "code",
   "execution_count": 2,
   "id": "b97ba3a5",
   "metadata": {},
   "outputs": [],
   "source": [
    "import matplotlib"
   ]
  },
  {
   "cell_type": "code",
   "execution_count": 2,
   "id": "6f76b20a",
   "metadata": {},
   "outputs": [
    {
     "name": "stdout",
     "output_type": "stream",
     "text": [
      "Odd numbers [1, 3, 5, 7, 9]\n"
     ]
    }
   ],
   "source": [
    "# print odd number output in list format\n",
    "l1 = [1,2,3,4,5,6,7,8,9,10]\n",
    "for i in l1:\n",
    "    if i % 2 == 0:\n",
    "        l1.remove(i)\n",
    "print(\"Odd numbers\",l1)"
   ]
  },
  {
   "cell_type": "code",
   "execution_count": 3,
   "id": "6dbf8ed4",
   "metadata": {},
   "outputs": [
    {
     "name": "stdout",
     "output_type": "stream",
     "text": [
      "Odd numbers [1, 1, 1, 2, 3, 3, 4, 5, 7, 9]\n"
     ]
    }
   ],
   "source": [
    "# print odd number output in list format\n",
    "l1 = [1,1,1,2,2,2,3,3,4,4,4,5,6,7,8,9,10]\n",
    "for i in l1:\n",
    "    if i % 2 == 0:\n",
    "        l1.remove(i)\n",
    "print(\"Odd numbers\",l1)\n",
    "\n",
    "# will not get odd number output so use slicing"
   ]
  },
  {
   "cell_type": "code",
   "execution_count": 1,
   "id": "56a8fb86",
   "metadata": {},
   "outputs": [
    {
     "name": "stdout",
     "output_type": "stream",
     "text": [
      "Odd numbers [1, 1, 1, 3, 3, 5, 7, 9]\n"
     ]
    }
   ],
   "source": [
    "# print odd number output in list format\n",
    "l1 = [1,1,1,2,2,2,3,3,4,4,4,5,6,7,8,9,10]\n",
    "for i in l1[::1]:\n",
    "    if i % 2 == 0:\n",
    "        l1.remove(i)\n",
    "print(\"Odd numbers\",l1)"
   ]
  },
  {
   "cell_type": "code",
   "execution_count": null,
   "id": "580b23b1",
   "metadata": {},
   "outputs": [],
   "source": []
  }
 ],
 "metadata": {
  "kernelspec": {
   "display_name": "Python 3 (ipykernel)",
   "language": "python",
   "name": "python3"
  },
  "language_info": {
   "codemirror_mode": {
    "name": "ipython",
    "version": 3
   },
   "file_extension": ".py",
   "mimetype": "text/x-python",
   "name": "python",
   "nbconvert_exporter": "python",
   "pygments_lexer": "ipython3",
   "version": "3.11.3"
  }
 },
 "nbformat": 4,
 "nbformat_minor": 5
}
